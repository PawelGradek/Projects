{
  "nbformat": 4,
  "nbformat_minor": 0,
  "metadata": {
    "colab": {
      "name": "RecruitmentTask-PawełGradek.ipynb",
      "provenance": [],
      "collapsed_sections": [],
      "authorship_tag": "ABX9TyMu/0b+AxElz1sxTInT5vT1",
      "include_colab_link": true
    },
    "kernelspec": {
      "name": "python3",
      "display_name": "Python 3"
    },
    "language_info": {
      "name": "python"
    }
  },
  "cells": [
    {
      "cell_type": "markdown",
      "metadata": {
        "id": "view-in-github",
        "colab_type": "text"
      },
      "source": [
        "<a href=\"https://colab.research.google.com/github/PawelGradek/Projects/blob/main/RecruitmentTask_Pawe%C5%82Gradek.ipynb\" target=\"_parent\"><img src=\"https://colab.research.google.com/assets/colab-badge.svg\" alt=\"Open In Colab\"/></a>"
      ]
    },
    {
      "cell_type": "markdown",
      "source": [
        "# Technical qualitative analysis of data."
      ],
      "metadata": {
        "id": "BOBXxChyHXdc"
      }
    },
    {
      "cell_type": "markdown",
      "source": [
        "## 1. Using the pandas library to load the dataset."
      ],
      "metadata": {
        "id": "ijDmfebwG3YK"
      }
    },
    {
      "cell_type": "code",
      "source": [
        "#importing needed libraries\n",
        "import pandas as pd\n",
        "import matplotlib.pyplot as plt\n",
        "import numpy as np\n",
        "import math"
      ],
      "metadata": {
        "id": "vCI_4zdFIPzI"
      },
      "execution_count": 1,
      "outputs": []
    },
    {
      "cell_type": "code",
      "source": [
        "#Read a comma-separated values (csv) file into DataFrame\n",
        "PATH = 'https://bitpeak.pl/datasets/BCL_TaskCreation.csv'\n",
        "df = pd.read_csv(PATH, delimiter=';' )"
      ],
      "metadata": {
        "id": "-ZgNFIUSbH1z"
      },
      "execution_count": 2,
      "outputs": []
    },
    {
      "cell_type": "code",
      "source": [
        "df.head()"
      ],
      "metadata": {
        "colab": {
          "base_uri": "https://localhost:8080/",
          "height": 206
        },
        "id": "d4osdQ9WbN6D",
        "outputId": "32e0a383-5d61-4487-86de-8fb54a452efc"
      },
      "execution_count": 3,
      "outputs": [
        {
          "output_type": "execute_result",
          "data": {
            "text/plain": [
              "         dataStream   rowCount         probingTimestamp\n",
              "0  BCL_TaskCreation  315349655  2020-01-13 09:33:00.497\n",
              "1  BCL_TaskCreation  315349655  2020-01-13 09:34:00.157\n",
              "2  BCL_TaskCreation  314533770  2020-01-11 01:18:00.143\n",
              "3  BCL_TaskCreation  289249872  2020-04-05 16:10:00.333\n",
              "4  BCL_TaskCreation  289249872  2020-04-05 16:11:00.883"
            ],
            "text/html": [
              "\n",
              "  <div id=\"df-d3206c9c-cca2-4349-8d1f-2d6616a8c249\">\n",
              "    <div class=\"colab-df-container\">\n",
              "      <div>\n",
              "<style scoped>\n",
              "    .dataframe tbody tr th:only-of-type {\n",
              "        vertical-align: middle;\n",
              "    }\n",
              "\n",
              "    .dataframe tbody tr th {\n",
              "        vertical-align: top;\n",
              "    }\n",
              "\n",
              "    .dataframe thead th {\n",
              "        text-align: right;\n",
              "    }\n",
              "</style>\n",
              "<table border=\"1\" class=\"dataframe\">\n",
              "  <thead>\n",
              "    <tr style=\"text-align: right;\">\n",
              "      <th></th>\n",
              "      <th>dataStream</th>\n",
              "      <th>rowCount</th>\n",
              "      <th>probingTimestamp</th>\n",
              "    </tr>\n",
              "  </thead>\n",
              "  <tbody>\n",
              "    <tr>\n",
              "      <th>0</th>\n",
              "      <td>BCL_TaskCreation</td>\n",
              "      <td>315349655</td>\n",
              "      <td>2020-01-13 09:33:00.497</td>\n",
              "    </tr>\n",
              "    <tr>\n",
              "      <th>1</th>\n",
              "      <td>BCL_TaskCreation</td>\n",
              "      <td>315349655</td>\n",
              "      <td>2020-01-13 09:34:00.157</td>\n",
              "    </tr>\n",
              "    <tr>\n",
              "      <th>2</th>\n",
              "      <td>BCL_TaskCreation</td>\n",
              "      <td>314533770</td>\n",
              "      <td>2020-01-11 01:18:00.143</td>\n",
              "    </tr>\n",
              "    <tr>\n",
              "      <th>3</th>\n",
              "      <td>BCL_TaskCreation</td>\n",
              "      <td>289249872</td>\n",
              "      <td>2020-04-05 16:10:00.333</td>\n",
              "    </tr>\n",
              "    <tr>\n",
              "      <th>4</th>\n",
              "      <td>BCL_TaskCreation</td>\n",
              "      <td>289249872</td>\n",
              "      <td>2020-04-05 16:11:00.883</td>\n",
              "    </tr>\n",
              "  </tbody>\n",
              "</table>\n",
              "</div>\n",
              "      <button class=\"colab-df-convert\" onclick=\"convertToInteractive('df-d3206c9c-cca2-4349-8d1f-2d6616a8c249')\"\n",
              "              title=\"Convert this dataframe to an interactive table.\"\n",
              "              style=\"display:none;\">\n",
              "        \n",
              "  <svg xmlns=\"http://www.w3.org/2000/svg\" height=\"24px\"viewBox=\"0 0 24 24\"\n",
              "       width=\"24px\">\n",
              "    <path d=\"M0 0h24v24H0V0z\" fill=\"none\"/>\n",
              "    <path d=\"M18.56 5.44l.94 2.06.94-2.06 2.06-.94-2.06-.94-.94-2.06-.94 2.06-2.06.94zm-11 1L8.5 8.5l.94-2.06 2.06-.94-2.06-.94L8.5 2.5l-.94 2.06-2.06.94zm10 10l.94 2.06.94-2.06 2.06-.94-2.06-.94-.94-2.06-.94 2.06-2.06.94z\"/><path d=\"M17.41 7.96l-1.37-1.37c-.4-.4-.92-.59-1.43-.59-.52 0-1.04.2-1.43.59L10.3 9.45l-7.72 7.72c-.78.78-.78 2.05 0 2.83L4 21.41c.39.39.9.59 1.41.59.51 0 1.02-.2 1.41-.59l7.78-7.78 2.81-2.81c.8-.78.8-2.07 0-2.86zM5.41 20L4 18.59l7.72-7.72 1.47 1.35L5.41 20z\"/>\n",
              "  </svg>\n",
              "      </button>\n",
              "      \n",
              "  <style>\n",
              "    .colab-df-container {\n",
              "      display:flex;\n",
              "      flex-wrap:wrap;\n",
              "      gap: 12px;\n",
              "    }\n",
              "\n",
              "    .colab-df-convert {\n",
              "      background-color: #E8F0FE;\n",
              "      border: none;\n",
              "      border-radius: 50%;\n",
              "      cursor: pointer;\n",
              "      display: none;\n",
              "      fill: #1967D2;\n",
              "      height: 32px;\n",
              "      padding: 0 0 0 0;\n",
              "      width: 32px;\n",
              "    }\n",
              "\n",
              "    .colab-df-convert:hover {\n",
              "      background-color: #E2EBFA;\n",
              "      box-shadow: 0px 1px 2px rgba(60, 64, 67, 0.3), 0px 1px 3px 1px rgba(60, 64, 67, 0.15);\n",
              "      fill: #174EA6;\n",
              "    }\n",
              "\n",
              "    [theme=dark] .colab-df-convert {\n",
              "      background-color: #3B4455;\n",
              "      fill: #D2E3FC;\n",
              "    }\n",
              "\n",
              "    [theme=dark] .colab-df-convert:hover {\n",
              "      background-color: #434B5C;\n",
              "      box-shadow: 0px 1px 3px 1px rgba(0, 0, 0, 0.15);\n",
              "      filter: drop-shadow(0px 1px 2px rgba(0, 0, 0, 0.3));\n",
              "      fill: #FFFFFF;\n",
              "    }\n",
              "  </style>\n",
              "\n",
              "      <script>\n",
              "        const buttonEl =\n",
              "          document.querySelector('#df-d3206c9c-cca2-4349-8d1f-2d6616a8c249 button.colab-df-convert');\n",
              "        buttonEl.style.display =\n",
              "          google.colab.kernel.accessAllowed ? 'block' : 'none';\n",
              "\n",
              "        async function convertToInteractive(key) {\n",
              "          const element = document.querySelector('#df-d3206c9c-cca2-4349-8d1f-2d6616a8c249');\n",
              "          const dataTable =\n",
              "            await google.colab.kernel.invokeFunction('convertToInteractive',\n",
              "                                                     [key], {});\n",
              "          if (!dataTable) return;\n",
              "\n",
              "          const docLinkHtml = 'Like what you see? Visit the ' +\n",
              "            '<a target=\"_blank\" href=https://colab.research.google.com/notebooks/data_table.ipynb>data table notebook</a>'\n",
              "            + ' to learn more about interactive tables.';\n",
              "          element.innerHTML = '';\n",
              "          dataTable['output_type'] = 'display_data';\n",
              "          await google.colab.output.renderOutput(dataTable, element);\n",
              "          const docLink = document.createElement('div');\n",
              "          docLink.innerHTML = docLinkHtml;\n",
              "          element.appendChild(docLink);\n",
              "        }\n",
              "      </script>\n",
              "    </div>\n",
              "  </div>\n",
              "  "
            ]
          },
          "metadata": {},
          "execution_count": 3
        }
      ]
    },
    {
      "cell_type": "markdown",
      "source": [
        "## 2. Data analysis."
      ],
      "metadata": {
        "id": "38C1nCA_NS9O"
      }
    },
    {
      "cell_type": "markdown",
      "source": [
        "### Data ordering"
      ],
      "metadata": {
        "id": "0WibReefuQyM"
      }
    },
    {
      "cell_type": "code",
      "source": [
        "#Return if the index is monotonic increasing (only equal or increasing) values.\n",
        "for i in df.columns:\n",
        "  print(f'Whether the values in the: {i} column are increasing: {df[i].is_monotonic_increasing}')"
      ],
      "metadata": {
        "colab": {
          "base_uri": "https://localhost:8080/"
        },
        "id": "2gbe0ulztolc",
        "outputId": "758da662-014d-4083-8b4b-373b07ddb23c"
      },
      "execution_count": 4,
      "outputs": [
        {
          "output_type": "stream",
          "name": "stdout",
          "text": [
            "Whether the values in the: dataStream column are increasing: True\n",
            "Whether the values in the: rowCount column are increasing: False\n",
            "Whether the values in the: probingTimestamp column are increasing: False\n"
          ]
        }
      ]
    },
    {
      "cell_type": "markdown",
      "source": [
        "### Uniqueness of data"
      ],
      "metadata": {
        "id": "nsLPoNlmugVY"
      }
    },
    {
      "cell_type": "code",
      "source": [
        "#Return unique values based on a hash table.\n",
        "for i in df.columns:\n",
        "  unique_values = df[i].unique()\n",
        "  print(f'Column name: {i}\\nUnique values: {unique_values}\\nNumber of unique values: {len(unique_values)},\\n')"
      ],
      "metadata": {
        "colab": {
          "base_uri": "https://localhost:8080/"
        },
        "id": "nSi0fXusVu60",
        "outputId": "0db84a6a-0033-416f-bceb-a66b0d934666"
      },
      "execution_count": 5,
      "outputs": [
        {
          "output_type": "stream",
          "name": "stdout",
          "text": [
            "Column name: dataStream\n",
            "Unique values: ['BCL_TaskCreation']\n",
            "Number of unique values: 1,\n",
            "\n",
            "Column name: rowCount\n",
            "Unique values: [315349655 314533770 289249872 ... 289702812 289702632 289702697]\n",
            "Number of unique values: 6612,\n",
            "\n",
            "Column name: probingTimestamp\n",
            "Unique values: ['2020-01-13 09:33:00.497' '2020-01-13 09:34:00.157'\n",
            " '2020-01-11 01:18:00.143' ... '2020-05-02 06:10:00.157'\n",
            " '2020-05-02 04:18:00.117' '2020-05-02 06:11:00.597']\n",
            "Number of unique values: 160513,\n",
            "\n"
          ]
        }
      ]
    },
    {
      "cell_type": "markdown",
      "source": [
        "### Data continuity"
      ],
      "metadata": {
        "id": "WrA5wvDvuwFP"
      }
    },
    {
      "cell_type": "code",
      "source": [
        "#Detect missing values\n",
        "print('The number of blank values in the columns:')\n",
        "df.isnull().sum()"
      ],
      "metadata": {
        "id": "khxZi95WHhBa",
        "colab": {
          "base_uri": "https://localhost:8080/"
        },
        "outputId": "f1818259-4db2-437b-e7d7-c02b03cb293b"
      },
      "execution_count": 6,
      "outputs": [
        {
          "output_type": "stream",
          "name": "stdout",
          "text": [
            "The number of blank values in the columns:\n"
          ]
        },
        {
          "output_type": "execute_result",
          "data": {
            "text/plain": [
              "dataStream          0\n",
              "rowCount            0\n",
              "probingTimestamp    0\n",
              "dtype: int64"
            ]
          },
          "metadata": {},
          "execution_count": 6
        }
      ]
    },
    {
      "cell_type": "markdown",
      "source": [
        "### Change of value over time"
      ],
      "metadata": {
        "id": "DeVQcf6m0pDf"
      }
    },
    {
      "cell_type": "code",
      "source": [
        "#Sort by the values\n",
        "df = df.sort_values('probingTimestamp')\n",
        "df.head()"
      ],
      "metadata": {
        "colab": {
          "base_uri": "https://localhost:8080/",
          "height": 206
        },
        "id": "9KbfujpDIp-a",
        "outputId": "bca1d46e-be00-4a9e-ac33-0a1bf35eb890"
      },
      "execution_count": 7,
      "outputs": [
        {
          "output_type": "execute_result",
          "data": {
            "text/plain": [
              "            dataStream   rowCount         probingTimestamp\n",
              "3506  BCL_TaskCreation  314015548  2020-01-10 10:04:18.837\n",
              "3505  BCL_TaskCreation  314015548  2020-01-10 10:16:29.063\n",
              "3507  BCL_TaskCreation  314015548  2020-01-10 10:17:00.510\n",
              "3512  BCL_TaskCreation  314015548  2020-01-10 10:18:00.977\n",
              "3513  BCL_TaskCreation  314015548  2020-01-10 10:19:00.610"
            ],
            "text/html": [
              "\n",
              "  <div id=\"df-80aa3fe8-08fa-4ad8-b764-89d247921d9d\">\n",
              "    <div class=\"colab-df-container\">\n",
              "      <div>\n",
              "<style scoped>\n",
              "    .dataframe tbody tr th:only-of-type {\n",
              "        vertical-align: middle;\n",
              "    }\n",
              "\n",
              "    .dataframe tbody tr th {\n",
              "        vertical-align: top;\n",
              "    }\n",
              "\n",
              "    .dataframe thead th {\n",
              "        text-align: right;\n",
              "    }\n",
              "</style>\n",
              "<table border=\"1\" class=\"dataframe\">\n",
              "  <thead>\n",
              "    <tr style=\"text-align: right;\">\n",
              "      <th></th>\n",
              "      <th>dataStream</th>\n",
              "      <th>rowCount</th>\n",
              "      <th>probingTimestamp</th>\n",
              "    </tr>\n",
              "  </thead>\n",
              "  <tbody>\n",
              "    <tr>\n",
              "      <th>3506</th>\n",
              "      <td>BCL_TaskCreation</td>\n",
              "      <td>314015548</td>\n",
              "      <td>2020-01-10 10:04:18.837</td>\n",
              "    </tr>\n",
              "    <tr>\n",
              "      <th>3505</th>\n",
              "      <td>BCL_TaskCreation</td>\n",
              "      <td>314015548</td>\n",
              "      <td>2020-01-10 10:16:29.063</td>\n",
              "    </tr>\n",
              "    <tr>\n",
              "      <th>3507</th>\n",
              "      <td>BCL_TaskCreation</td>\n",
              "      <td>314015548</td>\n",
              "      <td>2020-01-10 10:17:00.510</td>\n",
              "    </tr>\n",
              "    <tr>\n",
              "      <th>3512</th>\n",
              "      <td>BCL_TaskCreation</td>\n",
              "      <td>314015548</td>\n",
              "      <td>2020-01-10 10:18:00.977</td>\n",
              "    </tr>\n",
              "    <tr>\n",
              "      <th>3513</th>\n",
              "      <td>BCL_TaskCreation</td>\n",
              "      <td>314015548</td>\n",
              "      <td>2020-01-10 10:19:00.610</td>\n",
              "    </tr>\n",
              "  </tbody>\n",
              "</table>\n",
              "</div>\n",
              "      <button class=\"colab-df-convert\" onclick=\"convertToInteractive('df-80aa3fe8-08fa-4ad8-b764-89d247921d9d')\"\n",
              "              title=\"Convert this dataframe to an interactive table.\"\n",
              "              style=\"display:none;\">\n",
              "        \n",
              "  <svg xmlns=\"http://www.w3.org/2000/svg\" height=\"24px\"viewBox=\"0 0 24 24\"\n",
              "       width=\"24px\">\n",
              "    <path d=\"M0 0h24v24H0V0z\" fill=\"none\"/>\n",
              "    <path d=\"M18.56 5.44l.94 2.06.94-2.06 2.06-.94-2.06-.94-.94-2.06-.94 2.06-2.06.94zm-11 1L8.5 8.5l.94-2.06 2.06-.94-2.06-.94L8.5 2.5l-.94 2.06-2.06.94zm10 10l.94 2.06.94-2.06 2.06-.94-2.06-.94-.94-2.06-.94 2.06-2.06.94z\"/><path d=\"M17.41 7.96l-1.37-1.37c-.4-.4-.92-.59-1.43-.59-.52 0-1.04.2-1.43.59L10.3 9.45l-7.72 7.72c-.78.78-.78 2.05 0 2.83L4 21.41c.39.39.9.59 1.41.59.51 0 1.02-.2 1.41-.59l7.78-7.78 2.81-2.81c.8-.78.8-2.07 0-2.86zM5.41 20L4 18.59l7.72-7.72 1.47 1.35L5.41 20z\"/>\n",
              "  </svg>\n",
              "      </button>\n",
              "      \n",
              "  <style>\n",
              "    .colab-df-container {\n",
              "      display:flex;\n",
              "      flex-wrap:wrap;\n",
              "      gap: 12px;\n",
              "    }\n",
              "\n",
              "    .colab-df-convert {\n",
              "      background-color: #E8F0FE;\n",
              "      border: none;\n",
              "      border-radius: 50%;\n",
              "      cursor: pointer;\n",
              "      display: none;\n",
              "      fill: #1967D2;\n",
              "      height: 32px;\n",
              "      padding: 0 0 0 0;\n",
              "      width: 32px;\n",
              "    }\n",
              "\n",
              "    .colab-df-convert:hover {\n",
              "      background-color: #E2EBFA;\n",
              "      box-shadow: 0px 1px 2px rgba(60, 64, 67, 0.3), 0px 1px 3px 1px rgba(60, 64, 67, 0.15);\n",
              "      fill: #174EA6;\n",
              "    }\n",
              "\n",
              "    [theme=dark] .colab-df-convert {\n",
              "      background-color: #3B4455;\n",
              "      fill: #D2E3FC;\n",
              "    }\n",
              "\n",
              "    [theme=dark] .colab-df-convert:hover {\n",
              "      background-color: #434B5C;\n",
              "      box-shadow: 0px 1px 3px 1px rgba(0, 0, 0, 0.15);\n",
              "      filter: drop-shadow(0px 1px 2px rgba(0, 0, 0, 0.3));\n",
              "      fill: #FFFFFF;\n",
              "    }\n",
              "  </style>\n",
              "\n",
              "      <script>\n",
              "        const buttonEl =\n",
              "          document.querySelector('#df-80aa3fe8-08fa-4ad8-b764-89d247921d9d button.colab-df-convert');\n",
              "        buttonEl.style.display =\n",
              "          google.colab.kernel.accessAllowed ? 'block' : 'none';\n",
              "\n",
              "        async function convertToInteractive(key) {\n",
              "          const element = document.querySelector('#df-80aa3fe8-08fa-4ad8-b764-89d247921d9d');\n",
              "          const dataTable =\n",
              "            await google.colab.kernel.invokeFunction('convertToInteractive',\n",
              "                                                     [key], {});\n",
              "          if (!dataTable) return;\n",
              "\n",
              "          const docLinkHtml = 'Like what you see? Visit the ' +\n",
              "            '<a target=\"_blank\" href=https://colab.research.google.com/notebooks/data_table.ipynb>data table notebook</a>'\n",
              "            + ' to learn more about interactive tables.';\n",
              "          element.innerHTML = '';\n",
              "          dataTable['output_type'] = 'display_data';\n",
              "          await google.colab.output.renderOutput(dataTable, element);\n",
              "          const docLink = document.createElement('div');\n",
              "          docLink.innerHTML = docLinkHtml;\n",
              "          element.appendChild(docLink);\n",
              "        }\n",
              "      </script>\n",
              "    </div>\n",
              "  </div>\n",
              "  "
            ]
          },
          "metadata": {},
          "execution_count": 7
        }
      ]
    },
    {
      "cell_type": "code",
      "source": [
        "#Make plots of Series \n",
        "df.plot(x='probingTimestamp',y='rowCount')\n",
        "plt.xticks(rotation=17, fontsize=10)\n",
        "plt.xlabel(\"Probing Timestamp\")\n",
        "plt.ylabel(\"Row Count\")\n",
        "plt.tight_layout()"
      ],
      "metadata": {
        "colab": {
          "base_uri": "https://localhost:8080/",
          "height": 297
        },
        "id": "beRJZhgC0yUu",
        "outputId": "07b336ef-348d-4a1e-de39-b7c0e5ac80f9",
        "cellView": "code"
      },
      "execution_count": 8,
      "outputs": [
        {
          "output_type": "display_data",
          "data": {
            "text/plain": [
              "<Figure size 432x288 with 1 Axes>"
            ],
            "image/png": "[encoded data removed]"
          },
          "metadata": {
            "needs_background": "light"
          }
        }
      ]
    },
    {
      "cell_type": "markdown",
      "source": [
        "### Visible seasonality\n",
        "In the chart above we can see a repeating cycle, in the middle of the timeline we know that the values are rising again as at the beginning of the chart.\n",
        "\n",
        "Thanks to this observation, we may be inclined to propose a thesis that seasonality is visible in this data."
      ],
      "metadata": {
        "id": "el7wF7PzZynh"
      }
    },
    {
      "cell_type": "markdown",
      "source": [
        "### Changes in adjacent records."
      ],
      "metadata": {
        "id": "ur3AeyG1MVz9"
      }
    },
    {
      "cell_type": "code",
      "source": [
        "#Computing the magnitude of the order of change between adjacent records\n",
        "diff = np.diff(df['rowCount'])\n",
        "diffUnique = pd.unique(diff)\n",
        "\n",
        "#Function to computing the magnitude of the order\n",
        "def order_of_magnitude(number):\n",
        "    return math.floor(math.log(number, 10))\n",
        "\n",
        "magOfOrder = []\n",
        "for i in diffUnique:\n",
        "  if i != 0:\n",
        "    magOfOrder.append(order_of_magnitude(abs(i)))\n",
        "magOfOrderUnique = pd.unique(magOfOrder)\n",
        "print(f'The magnitude of the order of the changes in adjacent records that occur in the dataset: {magOfOrderUnique}')\n"
      ],
      "metadata": {
        "colab": {
          "base_uri": "https://localhost:8080/"
        },
        "id": "qXBoJ_MXMouo",
        "outputId": "c4d4e0cb-c863-47da-d573-a9b2ad398d3d"
      },
      "execution_count": 9,
      "outputs": [
        {
          "output_type": "stream",
          "name": "stdout",
          "text": [
            "The magnitude of the order of the changes in adjacent records that occur in the dataset: [4 3 2 1 0 5]\n"
          ]
        }
      ]
    },
    {
      "cell_type": "markdown",
      "source": [
        "### Duplicate values"
      ],
      "metadata": {
        "id": "WeRqmJzevZHH"
      }
    },
    {
      "cell_type": "code",
      "source": [
        "#Return boolean Series denoting duplicate rows.\n",
        "print(df.duplicated())"
      ],
      "metadata": {
        "colab": {
          "base_uri": "https://localhost:8080/"
        },
        "id": "HAGNwdmivZhG",
        "outputId": "3c31db32-8b47-4dd3-d579-f5a32ccdae70"
      },
      "execution_count": 10,
      "outputs": [
        {
          "output_type": "stream",
          "name": "stdout",
          "text": [
            "3506      False\n",
            "3505      False\n",
            "3507      False\n",
            "3512      False\n",
            "3513      False\n",
            "          ...  \n",
            "160365    False\n",
            "160366    False\n",
            "160369    False\n",
            "160373    False\n",
            "160058    False\n",
            "Length: 160735, dtype: bool\n"
          ]
        }
      ]
    },
    {
      "cell_type": "markdown",
      "source": [
        "## 3. Identifying potential data quality problems."
      ],
      "metadata": {
        "id": "OHiDos5PNcWK"
      }
    },
    {
      "cell_type": "markdown",
      "source": [
        "Potential data quality problems in this dataset:\n",
        "\n",
        "- Ordering data - is the data ordered or the time series are sorted by time from the oldest date to the newest\n",
        "- Data uniqueness - are the values in the time column unique, or are the information about the size of the streamed values unambiguous\n",
        "- Continuity of data - Whether there are empty or null values in the time series\n",
        "- Duplicate values - whether there are duplicate records in the dataset"
      ],
      "metadata": {
        "id": "LGXP1TYjDygz"
      }
    },
    {
      "cell_type": "markdown",
      "source": [
        "## 4. Implementation of functions verifying the occurrence of problems."
      ],
      "metadata": {
        "id": "ZawcR1oBOSRx"
      }
    },
    {
      "cell_type": "markdown",
      "source": [
        "### 1. Ordering data"
      ],
      "metadata": {
        "id": "NfPxfDKAdscQ"
      }
    },
    {
      "cell_type": "code",
      "source": [
        "#Function to return if the index is monotonic increasing values.\n",
        "def verification_of_data_ordering(DataFrame):\n",
        "  for i in DataFrame.columns:\n",
        "    print(f'Whether the values in the: {i} column are increasing: {DataFrame[i].is_monotonic_increasing}\\n')"
      ],
      "metadata": {
        "id": "RNez1Jh_QwMw"
      },
      "execution_count": 11,
      "outputs": []
    },
    {
      "cell_type": "markdown",
      "source": [
        "### 2. Data uniqueness"
      ],
      "metadata": {
        "id": "Y_iLbZiHeXaU"
      }
    },
    {
      "cell_type": "code",
      "source": [
        "#Function to return unique values based on a hash table.\n",
        "def verification_of_data_uniqueness(DataFrame):\n",
        "  for i in DataFrame.columns:\n",
        "    uniqueValues = DataFrame[i].unique()\n",
        "    print(f'Column name: {i}\\nUnique values:{uniqueValues}\\nNumber of unique values {len(uniqueValues)},\\n')"
      ],
      "metadata": {
        "id": "9vMVmfHxegs4"
      },
      "execution_count": 12,
      "outputs": []
    },
    {
      "cell_type": "markdown",
      "source": [
        "### 3. Continuity of data"
      ],
      "metadata": {
        "id": "oP4j_YpUfAzb"
      }
    },
    {
      "cell_type": "code",
      "source": [
        "#Function to detect missing values\n",
        "def verification_of_data_continuity(DataFrame):\n",
        "  print(f'The number of blank values in the columns:\\n{DataFrame.isnull().sum()}')\n",
        "  nan_rows = DataFrame[DataFrame.isna().any(axis=1)]\n",
        "  print(f'Records with blank values:\\n{nan_rows}')"
      ],
      "metadata": {
        "id": "ZwUwEBMgfFE1"
      },
      "execution_count": 13,
      "outputs": []
    },
    {
      "cell_type": "markdown",
      "source": [
        "### 4. Duplicate values"
      ],
      "metadata": {
        "id": "vIkVCWzPwFJm"
      }
    },
    {
      "cell_type": "code",
      "source": [
        "#Function to return boolean Series denoting duplicate rows.\n",
        "def verification_of_duplicate_values(DataFrame):\n",
        "  print(f'Duplicate records in the dataset:\\n{DataFrame.duplicated()}')"
      ],
      "metadata": {
        "id": "mseFWrkrwJtL"
      },
      "execution_count": 14,
      "outputs": []
    },
    {
      "cell_type": "markdown",
      "source": [
        "### Demonstration of the function's operation"
      ],
      "metadata": {
        "id": "VGMS5wOYf1Vs"
      }
    },
    {
      "cell_type": "code",
      "source": [
        "PATH = 'https://bitpeak.pl/datasets/BCL_TaskCreation.csv'\n",
        "DataFrame = pd.read_csv(PATH, delimiter=';' )\n",
        "verification_of_data_ordering(DataFrame)\n",
        "verification_of_data_uniqueness(DataFrame)\n",
        "verification_of_data_continuity(DataFrame)\n",
        "verification_of_duplicate_values(DataFrame)"
      ],
      "metadata": {
        "colab": {
          "base_uri": "https://localhost:8080/"
        },
        "id": "C4PrWv43gPlL",
        "outputId": "0b5e9ab9-45d2-4db7-d728-b4d1d0a1d6fb"
      },
      "execution_count": 15,
      "outputs": [
        {
          "output_type": "stream",
          "name": "stdout",
          "text": [
            "Whether the values in the: dataStream column are increasing: True\n",
            "\n",
            "Whether the values in the: rowCount column are increasing: False\n",
            "\n",
            "Whether the values in the: probingTimestamp column are increasing: False\n",
            "\n",
            "Column name: dataStream\n",
            "Unique values:['BCL_TaskCreation']\n",
            "Number of unique values 1,\n",
            "\n",
            "Column name: rowCount\n",
            "Unique values:[315349655 314533770 289249872 ... 289702812 289702632 289702697]\n",
            "Number of unique values 6612,\n",
            "\n",
            "Column name: probingTimestamp\n",
            "Unique values:['2020-01-13 09:33:00.497' '2020-01-13 09:34:00.157'\n",
            " '2020-01-11 01:18:00.143' ... '2020-05-02 06:10:00.157'\n",
            " '2020-05-02 04:18:00.117' '2020-05-02 06:11:00.597']\n",
            "Number of unique values 160513,\n",
            "\n",
            "The number of blank values in the columns:\n",
            "dataStream          0\n",
            "rowCount            0\n",
            "probingTimestamp    0\n",
            "dtype: int64\n",
            "Records with blank values:\n",
            "Empty DataFrame\n",
            "Columns: [dataStream, rowCount, probingTimestamp]\n",
            "Index: []\n",
            "Duplicate records in the dataset:\n",
            "0         False\n",
            "1         False\n",
            "2         False\n",
            "3         False\n",
            "4         False\n",
            "          ...  \n",
            "160730    False\n",
            "160731    False\n",
            "160732    False\n",
            "160733    False\n",
            "160734    False\n",
            "Length: 160735, dtype: bool\n"
          ]
        }
      ]
    }
  ]
}